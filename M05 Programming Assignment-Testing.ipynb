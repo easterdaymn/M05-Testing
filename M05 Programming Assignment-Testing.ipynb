{
 "cells": [
  {
   "cell_type": "markdown",
   "id": "ffe349d9-cd76-427a-be63-8af5b543fe8c",
   "metadata": {},
   "source": [
    "test_list_int:\n",
    "\n",
    "Expected Outcome: Sum of [1, 2, 3] should be 6.\n",
    "Actual Outcome: Test passed successfully."
   ]
  },
  {
   "cell_type": "markdown",
   "id": "ebca9c03-d0bc-4ce8-a001-08602a4cd549",
   "metadata": {},
   "source": [
    "test_list_fraction:\n",
    "\n",
    "Expected Outcome: Sum of [Fraction(1, 4), Fraction(1, 4), Fraction(2, 5)] should be 1.\n",
    "Actual Outcome: Initially failed due to unexpected result Fraction(9, 10)."
   ]
  },
  {
   "cell_type": "markdown",
   "id": "aa300e37-a50a-4732-80fb-29cea3475ef1",
   "metadata": {},
   "source": [
    "test_sum_tuple:\n",
    "\n",
    "Expected Outcome: Sum of (1, 2, 2) should be 6.\n",
    "Actual Outcome: Test failed, returning 5 instead of 6."
   ]
  },
  {
   "cell_type": "markdown",
   "id": "35e761cb-4c28-47c3-8f76-eb35e3c14cdf",
   "metadata": {},
   "source": [
    "Reflection:\n",
    "\n",
    "The sum() function performed as expected with integers (test_list_int).\n",
    "Issues arose with fractions (test_list_fraction) and tuples (test_sum_tuple), indicating potential edge cases or implementation errors in the sum() function.\n",
    "These failures highlight the importance of thorough testing to handle different data types and edge cases effectively."
   ]
  },
  {
   "cell_type": "markdown",
   "id": "868dddc8-ed06-4b95-a9de-f9f45221103e",
   "metadata": {},
   "source": [
    "Conclusion:\n",
    "\n",
    "Documenting and executing unit tests using unittest in VSCode provided valuable insights into ensuring code reliability and correctness.\n",
    "Testing not only verifies functionality but also identifies areas for improvement and validates software development processes."
   ]
  }
 ],
 "metadata": {
  "kernelspec": {
   "display_name": "Python 3 (ipykernel)",
   "language": "python",
   "name": "python3"
  },
  "language_info": {
   "codemirror_mode": {
    "name": "ipython",
    "version": 3
   },
   "file_extension": ".py",
   "mimetype": "text/x-python",
   "name": "python",
   "nbconvert_exporter": "python",
   "pygments_lexer": "ipython3",
   "version": "3.11.7"
  }
 },
 "nbformat": 4,
 "nbformat_minor": 5
}
